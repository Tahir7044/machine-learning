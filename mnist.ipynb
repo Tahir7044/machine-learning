{
  "nbformat": 4,
  "nbformat_minor": 0,
  "metadata": {
    "colab": {
      "name": "mnist.ipynb",
      "provenance": [],
      "authorship_tag": "ABX9TyO3YR2koBCOmMWC2zWNwcdd",
      "include_colab_link": true
    },
    "kernelspec": {
      "name": "python3",
      "display_name": "Python 3"
    }
  },
  "cells": [
    {
      "cell_type": "markdown",
      "metadata": {
        "id": "view-in-github",
        "colab_type": "text"
      },
      "source": [
        "<a href=\"https://colab.research.google.com/github/Tahir7044/machine-learning/blob/master/mnist.ipynb\" target=\"_parent\"><img src=\"https://colab.research.google.com/assets/colab-badge.svg\" alt=\"Open In Colab\"/></a>"
      ]
    },
    {
      "cell_type": "code",
      "metadata": {
        "id": "TTXcyb1wN1hF",
        "colab_type": "code",
        "colab": {}
      },
      "source": [
        "%tensorflow_version 2.x\n",
        "import tensorflow as tf\n",
        "\n",
        "print(tf.version)"
      ],
      "execution_count": 0,
      "outputs": []
    },
    {
      "cell_type": "code",
      "metadata": {
        "id": "Hx7vsqL3Pbzx",
        "colab_type": "code",
        "colab": {}
      },
      "source": [
        "from tensorflow import keras\n",
        "import numpy as np\n",
        "import pandas as pd\n",
        "import matplotlib.pyplot as plt\n",
        "import seaborn as sns\n"
      ],
      "execution_count": 0,
      "outputs": []
    },
    {
      "cell_type": "code",
      "metadata": {
        "id": "Q2TJ7hiAS6cf",
        "colab_type": "code",
        "colab": {}
      },
      "source": [
        "data=keras.datasets.fashion_mnist\n",
        "(x_train,yrain),(x_test,y_test)=data.load_data()"
      ],
      "execution_count": 0,
      "outputs": []
    },
    {
      "cell_type": "code",
      "metadata": {
        "id": "cDztVvAjUsBK",
        "colab_type": "code",
        "colab": {}
      },
      "source": [
        "y_train=yrain"
      ],
      "execution_count": 0,
      "outputs": []
    },
    {
      "cell_type": "code",
      "metadata": {
        "id": "wLrTR3LvTMwV",
        "colab_type": "code",
        "outputId": "75fbf771-c94f-487e-cd13-ef5be9d02b7c",
        "colab": {
          "base_uri": "https://localhost:8080/",
          "height": 34
        }
      },
      "source": [
        "print(x_train.shape,y_train.shape,x_test.shape,y_test.shape)"
      ],
      "execution_count": 6,
      "outputs": [
        {
          "output_type": "stream",
          "text": [
            "(60000, 28, 28) (60000,) (10000, 28, 28) (10000,)\n"
          ],
          "name": "stdout"
        }
      ]
    },
    {
      "cell_type": "code",
      "metadata": {
        "id": "v-dLWx88U2rY",
        "colab_type": "code",
        "colab": {
          "base_uri": "https://localhost:8080/",
          "height": 282
        },
        "outputId": "4e0c2fc4-d5ad-4fba-e31b-ae1508475eca"
      },
      "source": [
        "plt.imshow(x_train[0])\n",
        "print(y_train[0])\n",
        "plt.show()"
      ],
      "execution_count": 7,
      "outputs": [
        {
          "output_type": "stream",
          "text": [
            "9\n"
          ],
          "name": "stdout"
        },
        {
          "output_type": "display_data",
          "data": {
            "image/png": "[encoded data removed]",
            "text/plain": [
              "<Figure size 432x288 with 1 Axes>"
            ]
          },
          "metadata": {
            "tags": []
          }
        }
      ]
    },
    {
      "cell_type": "code",
      "metadata": {
        "id": "Bmln2Nk6VoNv",
        "colab_type": "code",
        "colab": {}
      },
      "source": [
        "print(y_train[:10])"
      ],
      "execution_count": 0,
      "outputs": []
    },
    {
      "cell_type": "code",
      "metadata": {
        "id": "ygRAXNfwWA5u",
        "colab_type": "code",
        "colab": {}
      },
      "source": [
        "class_name=['top','trouser','pullover','dress','coat','sandal','shirt','sneaker','bag','ankle boot']\n"
      ],
      "execution_count": 0,
      "outputs": []
    },
    {
      "cell_type": "code",
      "metadata": {
        "id": "XfI7L5KvWmds",
        "colab_type": "code",
        "colab": {}
      },
      "source": [
        "plt.imshow(x_train[0])\n",
        "print(class_name[y_train[0]])\n",
        "plt.show()"
      ],
      "execution_count": 0,
      "outputs": []
    },
    {
      "cell_type": "code",
      "metadata": {
        "id": "LYhGOyf_XKBq",
        "colab_type": "code",
        "colab": {}
      },
      "source": [
        "x_train=x_train/255.0\n",
        "x_test=x_test/255.0"
      ],
      "execution_count": 0,
      "outputs": []
    },
    {
      "cell_type": "markdown",
      "metadata": {
        "id": "EOg2mDe6XkfV",
        "colab_type": "text"
      },
      "source": [
        "model building"
      ]
    },
    {
      "cell_type": "code",
      "metadata": {
        "id": "HPg77kfkXoov",
        "colab_type": "code",
        "colab": {}
      },
      "source": [
        "from tensorflow.keras import Sequential\n",
        "from tensorflow.keras.layers import Flatten,Dense,Dropout"
      ],
      "execution_count": 0,
      "outputs": []
    },
    {
      "cell_type": "code",
      "metadata": {
        "id": "sXognI_hYinI",
        "colab_type": "code",
        "colab": {
          "base_uri": "https://localhost:8080/",
          "height": 323
        },
        "outputId": "43348992-b602-44ec-b2ba-3d8aa9b2f007"
      },
      "source": [
        "model=Sequential()\n",
        "model.add(Flatten(input_shape=(28,28)))\n",
        "model.add(Dense(128,activation='relu'))\n",
        "model.add(Dense(64,activation='relu'))\n",
        "model.add(Dense(32,activation='relu'))\n",
        "model.add(Dense(10,activation='softmax'))\n",
        "model.summary()"
      ],
      "execution_count": 40,
      "outputs": [
        {
          "output_type": "stream",
          "text": [
            "Model: \"sequential_5\"\n",
            "_________________________________________________________________\n",
            "Layer (type)                 Output Shape              Param #   \n",
            "=================================================================\n",
            "flatten_5 (Flatten)          (None, 784)               0         \n",
            "_________________________________________________________________\n",
            "dense_12 (Dense)             (None, 128)               100480    \n",
            "_________________________________________________________________\n",
            "dense_13 (Dense)             (None, 64)                8256      \n",
            "_________________________________________________________________\n",
            "dense_14 (Dense)             (None, 32)                2080      \n",
            "_________________________________________________________________\n",
            "dense_15 (Dense)             (None, 10)                330       \n",
            "=================================================================\n",
            "Total params: 111,146\n",
            "Trainable params: 111,146\n",
            "Non-trainable params: 0\n",
            "_________________________________________________________________\n"
          ],
          "name": "stdout"
        }
      ]
    },
    {
      "cell_type": "code",
      "metadata": {
        "id": "nIl3mJfmZPqf",
        "colab_type": "code",
        "colab": {
          "base_uri": "https://localhost:8080/",
          "height": 394
        },
        "outputId": "0d1985de-e507-4f3b-e918-aee40c89baf7"
      },
      "source": [
        "model.compile(optimizer='adam',loss='sparse_categorical_crossentropy',metrics=['accuracy'])\n",
        "history=model.fit(x_train,y_train,epochs=10,batch_size=32,validation_split=0.2)"
      ],
      "execution_count": 41,
      "outputs": [
        {
          "output_type": "stream",
          "text": [
            "Train on 48000 samples, validate on 12000 samples\n",
            "Epoch 1/10\n",
            "48000/48000 [==============================] - 5s 96us/sample - loss: 0.5306 - accuracy: 0.8140 - val_loss: 0.4375 - val_accuracy: 0.8421\n",
            "Epoch 2/10\n",
            "48000/48000 [==============================] - 4s 90us/sample - loss: 0.3850 - accuracy: 0.8609 - val_loss: 0.3876 - val_accuracy: 0.8615\n",
            "Epoch 3/10\n",
            "48000/48000 [==============================] - 4s 89us/sample - loss: 0.3478 - accuracy: 0.8724 - val_loss: 0.3670 - val_accuracy: 0.8636\n",
            "Epoch 4/10\n",
            "48000/48000 [==============================] - 4s 90us/sample - loss: 0.3228 - accuracy: 0.8810 - val_loss: 0.3414 - val_accuracy: 0.8767\n",
            "Epoch 5/10\n",
            "48000/48000 [==============================] - 4s 89us/sample - loss: 0.3021 - accuracy: 0.8880 - val_loss: 0.3469 - val_accuracy: 0.8733\n",
            "Epoch 6/10\n",
            "48000/48000 [==============================] - 4s 89us/sample - loss: 0.2891 - accuracy: 0.8924 - val_loss: 0.3395 - val_accuracy: 0.8792\n",
            "Epoch 7/10\n",
            "48000/48000 [==============================] - 4s 89us/sample - loss: 0.2762 - accuracy: 0.8964 - val_loss: 0.3510 - val_accuracy: 0.8811\n",
            "Epoch 8/10\n",
            "48000/48000 [==============================] - 4s 89us/sample - loss: 0.2643 - accuracy: 0.9008 - val_loss: 0.3210 - val_accuracy: 0.8866\n",
            "Epoch 9/10\n",
            "48000/48000 [==============================] - 4s 90us/sample - loss: 0.2548 - accuracy: 0.9044 - val_loss: 0.3238 - val_accuracy: 0.8839\n",
            "Epoch 10/10\n",
            "48000/48000 [==============================] - 4s 88us/sample - loss: 0.2476 - accuracy: 0.9078 - val_loss: 0.3164 - val_accuracy: 0.8874\n"
          ],
          "name": "stdout"
        }
      ]
    },
    {
      "cell_type": "code",
      "metadata": {
        "id": "TRHKwgAUtRDf",
        "colab_type": "code",
        "colab": {
          "base_uri": "https://localhost:8080/",
          "height": 34
        },
        "outputId": "0cbf2243-1500-4606-d416-cc2a7f0dc877"
      },
      "source": [
        "print(history.history.keys())"
      ],
      "execution_count": 38,
      "outputs": [
        {
          "output_type": "stream",
          "text": [
            "dict_keys(['loss', 'accuracy', 'val_loss', 'val_accuracy'])\n"
          ],
          "name": "stdout"
        }
      ]
    },
    {
      "cell_type": "code",
      "metadata": {
        "id": "fRQTfWfztbj4",
        "colab_type": "code",
        "colab": {}
      },
      "source": [
        "plt.plot(history.history['accuracy'])\n",
        "plt.plot(history.history['val_accuracy'])\n",
        "plt.title('model accuracy')\n",
        "plt.ylabel('accuracy')\n",
        "plt.xlabel('epoch')\n",
        "plt.legend(['train', 'validation'], loc='upper left')\n",
        "plt.show()\n",
        "# summarize history for loss\n",
        "plt.plot(history.history['loss'])\n",
        "plt.plot(history.history['val_loss'])\n",
        "plt.title('model loss')\n",
        "plt.ylabel('loss')\n",
        "plt.xlabel('epoch')\n",
        "plt.legend(['train', 'validation'], loc='upper left')\n",
        "plt.show()"
      ],
      "execution_count": 0,
      "outputs": []
    },
    {
      "cell_type": "markdown",
      "metadata": {
        "id": "t-JS6RzIwgsQ",
        "colab_type": "text"
      },
      "source": [
        "since the accuracy curve is decreasing and loss value is increasing it means that the model is overfitting"
      ]
    },
    {
      "cell_type": "code",
      "metadata": {
        "id": "LMXJNMOgacK0",
        "colab_type": "code",
        "outputId": "eaf1a815-a8b0-424f-db33-ebd789a09b48",
        "colab": {
          "base_uri": "https://localhost:8080/",
          "height": 34
        }
      },
      "source": [
        "test_loss,test_acc=model.evaluate(x_test,y_test)"
      ],
      "execution_count": 15,
      "outputs": [
        {
          "output_type": "stream",
          "text": [
            "10000/10000 [==============================] - 0s 46us/sample - loss: 0.3441 - accuracy: 0.8803\n"
          ],
          "name": "stdout"
        }
      ]
    },
    {
      "cell_type": "code",
      "metadata": {
        "id": "ZF6Wv3ilay6s",
        "colab_type": "code",
        "outputId": "1a0810c5-41db-4a6a-ca8a-4fcda655368b",
        "colab": {
          "base_uri": "https://localhost:8080/",
          "height": 34
        }
      },
      "source": [
        "print(test_loss,test_acc)"
      ],
      "execution_count": 16,
      "outputs": [
        {
          "output_type": "stream",
          "text": [
            "0.3440566164970398 0.8803\n"
          ],
          "name": "stdout"
        }
      ]
    },
    {
      "cell_type": "code",
      "metadata": {
        "id": "kFLYZ6k7bM_1",
        "colab_type": "code",
        "outputId": "1d498c9d-c346-451c-de7f-6dbbf49780bc",
        "colab": {
          "base_uri": "https://localhost:8080/",
          "height": 34
        }
      },
      "source": [
        "from sklearn.metrics import accuracy_score\n",
        "from sklearn.metrics import confusion_matrix\n",
        "y_pred=model.predict_classes(x_test)\n",
        "accuracy_score(y_test,y_pred)"
      ],
      "execution_count": 43,
      "outputs": [
        {
          "output_type": "execute_result",
          "data": {
            "text/plain": [
              "0.881"
            ]
          },
          "metadata": {
            "tags": []
          },
          "execution_count": 43
        }
      ]
    },
    {
      "cell_type": "code",
      "metadata": {
        "id": "krJ2m8ElbmFS",
        "colab_type": "code",
        "outputId": "05c51f50-6287-431c-ecb5-e5eb6eb8a3a2",
        "colab": {
          "base_uri": "https://localhost:8080/",
          "height": 34
        }
      },
      "source": [
        "print(y_pred[:10],y_test[:10])"
      ],
      "execution_count": 18,
      "outputs": [
        {
          "output_type": "stream",
          "text": [
            "[9 2 1 1 6 1 4 6 5 7] [9 2 1 1 6 1 4 6 5 7]\n"
          ],
          "name": "stdout"
        }
      ]
    },
    {
      "cell_type": "code",
      "metadata": {
        "id": "UlJE_euScnP3",
        "colab_type": "code",
        "colab": {}
      },
      "source": [
        "pred=model.predict(x_test)"
      ],
      "execution_count": 0,
      "outputs": []
    },
    {
      "cell_type": "code",
      "metadata": {
        "id": "qBjFGOpBc9Hi",
        "colab_type": "code",
        "outputId": "8d9ffc4a-1947-4026-b938-93fa56c80788",
        "colab": {
          "base_uri": "https://localhost:8080/",
          "height": 68
        }
      },
      "source": [
        "print(pred[0])\n",
        "print(np.argmax(pred[0]))"
      ],
      "execution_count": 20,
      "outputs": [
        {
          "output_type": "stream",
          "text": [
            "[4.5052943e-06 5.3976918e-12 2.8542699e-08 7.3435213e-10 5.0965006e-09\n",
            " 3.4899666e-04 9.0023599e-07 4.8711319e-03 2.4353521e-06 9.9477190e-01]\n",
            "9\n"
          ],
          "name": "stdout"
        }
      ]
    },
    {
      "cell_type": "code",
      "metadata": {
        "id": "Ej6CWr3FrJfX",
        "colab_type": "code",
        "colab": {
          "base_uri": "https://localhost:8080/",
          "height": 187
        },
        "outputId": "fa476cc7-b013-44c4-f705-09fc40d5f55d"
      },
      "source": [
        "results=confusion_matrix(y_test,y_pred)\n",
        "print(results)"
      ],
      "execution_count": 44,
      "outputs": [
        {
          "output_type": "stream",
          "text": [
            "[[848   2  10  21   3   0 110   0   6   0]\n",
            " [  5 966   2  21   3   0   2   0   1   0]\n",
            " [ 13   0 812  17  69   0  85   0   4   0]\n",
            " [ 28   4   6 919  11   0  28   0   4   0]\n",
            " [  1   0 133  58 742   0  64   0   2   0]\n",
            " [  0   0   0   0   0 952   0  32   1  15]\n",
            " [138   1  92  31  51   0 676   0  11   0]\n",
            " [  0   0   0   0   0   7   0 966   2  25]\n",
            " [  7   0   1   5   3   1   5   5 973   0]\n",
            " [  0   0   0   0   0   5   1  38   0 956]]\n"
          ],
          "name": "stdout"
        }
      ]
    },
    {
      "cell_type": "code",
      "metadata": {
        "id": "cp9qTwbkshsD",
        "colab_type": "code",
        "colab": {}
      },
      "source": [
        "from mlxtend.plotting import plot_confusion_matrix as cn"
      ],
      "execution_count": 0,
      "outputs": []
    },
    {
      "cell_type": "code",
      "metadata": {
        "id": "sE5ZopOUspyP",
        "colab_type": "code",
        "colab": {
          "base_uri": "https://localhost:8080/",
          "height": 606
        },
        "outputId": "b43ef3af-df40-4789-acf8-605bd7a211e7"
      },
      "source": [
        "cn(conf_mat=results,figsize=(10,10),show_normed=True);"
      ],
      "execution_count": 54,
      "outputs": [
        {
          "output_type": "display_data",
          "data": {
            "image/png": "[encoded data removed]",
            "text/plain": [
              "<Figure size 720x720 with 1 Axes>"
            ]
          },
          "metadata": {
            "tags": []
          }
        }
      ]
    },
    {
      "cell_type": "code",
      "metadata": {
        "id": "pP5AfScFxlSx",
        "colab_type": "code",
        "colab": {}
      },
      "source": [
        ""
      ],
      "execution_count": 0,
      "outputs": []
    }
  ]
}