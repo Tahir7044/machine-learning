{
 "cells": [
  {
   "cell_type": "code",
   "execution_count": 4,
   "metadata": {},
   "outputs": [],
   "source": [
    "import pandas as pd\n",
    "import numpy as np\n",
    "import matplotlib as plt\n",
    "import matplotlib.image as mpimg"
   ]
  },
  {
   "cell_type": "code",
   "execution_count": 7,
   "metadata": {
    "collapsed": true
   },
   "outputs": [
    {
     "ename": "OSError",
     "evalue": "cannot identify image file 'Bareilyoutput.tif'",
     "output_type": "error",
     "traceback": [
      "\u001b[0;31m---------------------------------------------------------------------------\u001b[0m",
      "\u001b[0;31mOSError\u001b[0m                                   Traceback (most recent call last)",
      "\u001b[0;32m<ipython-input-7-e747225e083d>\u001b[0m in \u001b[0;36m<module>\u001b[0;34m\u001b[0m\n\u001b[0;32m----> 1\u001b[0;31m \u001b[0mmpimg\u001b[0m\u001b[0;34m.\u001b[0m\u001b[0mimread\u001b[0m\u001b[0;34m(\u001b[0m\u001b[0;34m\"Bareilyoutput.tif\"\u001b[0m\u001b[0;34m)\u001b[0m\u001b[0;34m\u001b[0m\u001b[0;34m\u001b[0m\u001b[0m\n\u001b[0m",
      "\u001b[0;32m~/anaconda3/lib/python3.7/site-packages/matplotlib/image.py\u001b[0m in \u001b[0;36mimread\u001b[0;34m(fname, format)\u001b[0m\n\u001b[1;32m   1415\u001b[0m                              \u001b[0;34m'with Pillow installed matplotlib can handle '\u001b[0m\u001b[0;34m\u001b[0m\u001b[0;34m\u001b[0m\u001b[0m\n\u001b[1;32m   1416\u001b[0m                              'more images' % list(handlers))\n\u001b[0;32m-> 1417\u001b[0;31m         \u001b[0;32mwith\u001b[0m \u001b[0mImage\u001b[0m\u001b[0;34m.\u001b[0m\u001b[0mopen\u001b[0m\u001b[0;34m(\u001b[0m\u001b[0mfname\u001b[0m\u001b[0;34m)\u001b[0m \u001b[0;32mas\u001b[0m \u001b[0mimage\u001b[0m\u001b[0;34m:\u001b[0m\u001b[0;34m\u001b[0m\u001b[0;34m\u001b[0m\u001b[0m\n\u001b[0m\u001b[1;32m   1418\u001b[0m             \u001b[0;32mreturn\u001b[0m \u001b[0mpil_to_array\u001b[0m\u001b[0;34m(\u001b[0m\u001b[0mimage\u001b[0m\u001b[0;34m)\u001b[0m\u001b[0;34m\u001b[0m\u001b[0;34m\u001b[0m\u001b[0m\n\u001b[1;32m   1419\u001b[0m \u001b[0;34m\u001b[0m\u001b[0m\n",
      "\u001b[0;32m~/anaconda3/lib/python3.7/site-packages/PIL/Image.py\u001b[0m in \u001b[0;36mopen\u001b[0;34m(fp, mode)\u001b[0m\n\u001b[1;32m   2816\u001b[0m     \u001b[0;32mfor\u001b[0m \u001b[0mmessage\u001b[0m \u001b[0;32min\u001b[0m \u001b[0maccept_warnings\u001b[0m\u001b[0;34m:\u001b[0m\u001b[0;34m\u001b[0m\u001b[0;34m\u001b[0m\u001b[0m\n\u001b[1;32m   2817\u001b[0m         \u001b[0mwarnings\u001b[0m\u001b[0;34m.\u001b[0m\u001b[0mwarn\u001b[0m\u001b[0;34m(\u001b[0m\u001b[0mmessage\u001b[0m\u001b[0;34m)\u001b[0m\u001b[0;34m\u001b[0m\u001b[0;34m\u001b[0m\u001b[0m\n\u001b[0;32m-> 2818\u001b[0;31m     \u001b[0;32mraise\u001b[0m \u001b[0mIOError\u001b[0m\u001b[0;34m(\u001b[0m\u001b[0;34m\"cannot identify image file %r\"\u001b[0m \u001b[0;34m%\u001b[0m \u001b[0;34m(\u001b[0m\u001b[0mfilename\u001b[0m \u001b[0;32mif\u001b[0m \u001b[0mfilename\u001b[0m \u001b[0;32melse\u001b[0m \u001b[0mfp\u001b[0m\u001b[0;34m)\u001b[0m\u001b[0;34m)\u001b[0m\u001b[0;34m\u001b[0m\u001b[0;34m\u001b[0m\u001b[0m\n\u001b[0m\u001b[1;32m   2819\u001b[0m \u001b[0;34m\u001b[0m\u001b[0m\n\u001b[1;32m   2820\u001b[0m \u001b[0;34m\u001b[0m\u001b[0m\n",
      "\u001b[0;31mOSError\u001b[0m: cannot identify image file 'Bareilyoutput.tif'"
     ]
    }
   ],
   "source": [
    "mpimg.imread(\"Bareilyoutput.tif\")"
   ]
  },
  {
   "cell_type": "code",
   "execution_count": 8,
   "metadata": {},
   "outputs": [],
   "source": [
    "from PIL import Image"
   ]
  },
  {
   "cell_type": "code",
   "execution_count": 14,
   "metadata": {
    "collapsed": true
   },
   "outputs": [
    {
     "name": "stdout",
     "output_type": "stream",
     "text": [
      "*** TiffImageFile._open ***\n",
      "- __first: 8\n",
      "- ifh:  b'II*\\x00\\x08\\x00\\x00\\x00'\n",
      "Seeking to frame 0, on frame -1, __next 8, location: 8\n",
      "Loading tags, location: 8\n",
      "tag: ImageWidth (256) - type: short (3) - value: 2820\n",
      "tag: ImageLength (257) - type: short (3) - value: 3460\n",
      "tag: BitsPerSample (258) - type: short (3) Tag Location: 46 - Data Location: 206 - value: (16, 16, 16)\n",
      "tag: Compression (259) - type: short (3) - value: 1\n",
      "tag: PhotometricInterpretation (262) - type: short (3) - value: 1\n",
      "tag: StripOffsets (273) - type: long (4) Tag Location: 82 - Data Location: 14052 - value: <table: 13840 bytes>\n",
      "tag: SamplesPerPixel (277) - type: short (3) - value: 3\n",
      "tag: RowsPerStrip (278) - type: short (3) - value: 1\n",
      "tag: StripByteCounts (279) - type: long (4) Tag Location: 118 - Data Location: 212 - value: <table: 13840 bytes>\n",
      "tag: PlanarConfiguration (284) - type: short (3) - value: 1\n",
      "tag: ExtraSamples (338) - type: short (3) - value: (0, 0)\n",
      "tag: SampleFormat (339) - type: short (3) Tag Location: 154 - Data Location: 27892 - value: (2, 2, 2)\n",
      "tag: ModelPixelScaleTag (33550) - type: double (12) Tag Location: 166 - Data Location: 27898 - value: (5.0, 5.0, 0.0)\n",
      "tag: ModelTiepointTag (33922) - type: double (12) Tag Location: 178 - Data Location: 27922 - value: <table: 48 bytes>\n",
      "tag: GeoKeyDirectoryTag (34735) - type: short (3) Tag Location: 190 - Data Location: 27970 - value: <table: 64 bytes>\n",
      "tag: GeoAsciiParamsTag (34737) - type: string (2) Tag Location: 202 - Data Location: 28034 - value: WGS 84 / UTM zone 44N|WGS 84|\n",
      "tag: ImageWidth (256) - type: short (3) - value: 2820\n",
      "tag: ImageLength (257) - type: short (3) - value: 3460\n",
      "tag: BitsPerSample (258) - type: short (3) Tag Location: 46 - Data Location: 206 - value: (16, 16, 16)\n",
      "tag: Compression (259) - type: short (3) - value: 1\n",
      "tag: PhotometricInterpretation (262) - type: short (3) - value: 1\n",
      "tag: StripOffsets (273) - type: long (4) Tag Location: 82 - Data Location: 14052 - value: <table: 13840 bytes>\n",
      "tag: SamplesPerPixel (277) - type: short (3) - value: 3\n",
      "tag: RowsPerStrip (278) - type: short (3) - value: 1\n",
      "tag: StripByteCounts (279) - type: long (4) Tag Location: 118 - Data Location: 212 - value: <table: 13840 bytes>\n",
      "tag: PlanarConfiguration (284) - type: short (3) - value: 1\n",
      "tag: ExtraSamples (338) - type: short (3) - value: (0, 0)\n",
      "tag: SampleFormat (339) - type: short (3) Tag Location: 154 - Data Location: 27892 - value: (2, 2, 2)\n",
      "tag: ModelPixelScaleTag (33550) - type: double (12) Tag Location: 166 - Data Location: 27898 - value: (5.0, 5.0, 0.0)\n",
      "tag: ModelTiepointTag (33922) - type: double (12) Tag Location: 178 - Data Location: 27922 - value: <table: 48 bytes>\n",
      "tag: GeoKeyDirectoryTag (34735) - type: short (3) Tag Location: 190 - Data Location: 27970 - value: <table: 64 bytes>\n",
      "tag: GeoAsciiParamsTag (34737) - type: string (2) Tag Location: 202 - Data Location: 28034 - value: WGS 84 / UTM zone 44N|WGS 84|\n",
      "*** Summary ***\n",
      "- compression: raw\n",
      "- photometric_interpretation: 1\n",
      "- planar_configuration: 1\n",
      "- fill_order: 1\n",
      "- YCbCr subsampling: None\n",
      "- size: (2820, 3460)\n",
      "format key: (b'II', 1, (2, 2, 2), 1, (16, 16, 16), (0, 0))\n",
      "- unsupported format\n"
     ]
    },
    {
     "ename": "OSError",
     "evalue": "cannot identify image file 'Bareilyoutput.tif'",
     "output_type": "error",
     "traceback": [
      "\u001b[0;31m---------------------------------------------------------------------------\u001b[0m",
      "\u001b[0;31mOSError\u001b[0m                                   Traceback (most recent call last)",
      "\u001b[0;32m<ipython-input-14-8cc8c7981c7f>\u001b[0m in \u001b[0;36m<module>\u001b[0;34m\u001b[0m\n\u001b[0;32m----> 1\u001b[0;31m \u001b[0mimg\u001b[0m\u001b[0;34m=\u001b[0m\u001b[0mImage\u001b[0m\u001b[0;34m.\u001b[0m\u001b[0mopen\u001b[0m\u001b[0;34m(\u001b[0m\u001b[0;34m\"Bareilyoutput.tif\"\u001b[0m\u001b[0;34m)\u001b[0m\u001b[0;34m\u001b[0m\u001b[0;34m\u001b[0m\u001b[0m\n\u001b[0m\u001b[1;32m      2\u001b[0m \u001b[0mimg\u001b[0m\u001b[0;34m.\u001b[0m\u001b[0mshape\u001b[0m\u001b[0;34m(\u001b[0m\u001b[0;34m)\u001b[0m\u001b[0;34m\u001b[0m\u001b[0;34m\u001b[0m\u001b[0m\n",
      "\u001b[0;32m~/anaconda3/lib/python3.7/site-packages/PIL/Image.py\u001b[0m in \u001b[0;36mopen\u001b[0;34m(fp, mode)\u001b[0m\n\u001b[1;32m   2816\u001b[0m     \u001b[0;32mfor\u001b[0m \u001b[0mmessage\u001b[0m \u001b[0;32min\u001b[0m \u001b[0maccept_warnings\u001b[0m\u001b[0;34m:\u001b[0m\u001b[0;34m\u001b[0m\u001b[0;34m\u001b[0m\u001b[0m\n\u001b[1;32m   2817\u001b[0m         \u001b[0mwarnings\u001b[0m\u001b[0;34m.\u001b[0m\u001b[0mwarn\u001b[0m\u001b[0;34m(\u001b[0m\u001b[0mmessage\u001b[0m\u001b[0;34m)\u001b[0m\u001b[0;34m\u001b[0m\u001b[0;34m\u001b[0m\u001b[0m\n\u001b[0;32m-> 2818\u001b[0;31m     \u001b[0;32mraise\u001b[0m \u001b[0mIOError\u001b[0m\u001b[0;34m(\u001b[0m\u001b[0;34m\"cannot identify image file %r\"\u001b[0m \u001b[0;34m%\u001b[0m \u001b[0;34m(\u001b[0m\u001b[0mfilename\u001b[0m \u001b[0;32mif\u001b[0m \u001b[0mfilename\u001b[0m \u001b[0;32melse\u001b[0m \u001b[0mfp\u001b[0m\u001b[0;34m)\u001b[0m\u001b[0;34m)\u001b[0m\u001b[0;34m\u001b[0m\u001b[0;34m\u001b[0m\u001b[0m\n\u001b[0m\u001b[1;32m   2819\u001b[0m \u001b[0;34m\u001b[0m\u001b[0m\n\u001b[1;32m   2820\u001b[0m \u001b[0;34m\u001b[0m\u001b[0m\n",
      "\u001b[0;31mOSError\u001b[0m: cannot identify image file 'Bareilyoutput.tif'"
     ]
    }
   ],
   "source": [
    "img=Image.open(\"Bareilyoutput.tif\")\n",
    "img.shape()"
   ]
  },
  {
   "cell_type": "code",
   "execution_count": 11,
   "metadata": {
    "collapsed": true
   },
   "outputs": [
    {
     "name": "stdout",
     "output_type": "stream",
     "text": [
      "*** TiffImageFile._open ***\n",
      "- __first: 8\n",
      "- ifh:  b'II*\\x00\\x08\\x00\\x00\\x00'\n",
      "Seeking to frame 0, on frame -1, __next 8, location: 8\n",
      "Loading tags, location: 8\n",
      "tag: ImageWidth (256) - type: short (3) - value: 2820\n",
      "tag: ImageLength (257) - type: short (3) - value: 3460\n",
      "tag: BitsPerSample (258) - type: short (3) Tag Location: 46 - Data Location: 206 - value: (16, 16, 16)\n",
      "tag: Compression (259) - type: short (3) - value: 1\n",
      "tag: PhotometricInterpretation (262) - type: short (3) - value: 1\n",
      "tag: StripOffsets (273) - type: long (4) Tag Location: 82 - Data Location: 14052 - value: <table: 13840 bytes>\n",
      "tag: SamplesPerPixel (277) - type: short (3) - value: 3\n",
      "tag: RowsPerStrip (278) - type: short (3) - value: 1\n",
      "tag: StripByteCounts (279) - type: long (4) Tag Location: 118 - Data Location: 212 - value: <table: 13840 bytes>\n",
      "tag: PlanarConfiguration (284) - type: short (3) - value: 1\n",
      "tag: ExtraSamples (338) - type: short (3) - value: (0, 0)\n",
      "tag: SampleFormat (339) - type: short (3) Tag Location: 154 - Data Location: 27892 - value: (2, 2, 2)\n",
      "tag: ModelPixelScaleTag (33550) - type: double (12) Tag Location: 166 - Data Location: 27898 - value: (5.0, 5.0, 0.0)\n",
      "tag: ModelTiepointTag (33922) - type: double (12) Tag Location: 178 - Data Location: 27922 - value: <table: 48 bytes>\n",
      "tag: GeoKeyDirectoryTag (34735) - type: short (3) Tag Location: 190 - Data Location: 27970 - value: <table: 64 bytes>\n",
      "tag: GeoAsciiParamsTag (34737) - type: string (2) Tag Location: 202 - Data Location: 28034 - value: WGS 84 / UTM zone 44N|WGS 84|\n",
      "tag: ImageWidth (256) - type: short (3) - value: 2820\n",
      "tag: ImageLength (257) - type: short (3) - value: 3460\n",
      "tag: BitsPerSample (258) - type: short (3) Tag Location: 46 - Data Location: 206 - value: (16, 16, 16)\n",
      "tag: Compression (259) - type: short (3) - value: 1\n",
      "tag: PhotometricInterpretation (262) - type: short (3) - value: 1\n",
      "tag: StripOffsets (273) - type: long (4) Tag Location: 82 - Data Location: 14052 - value: <table: 13840 bytes>\n",
      "tag: SamplesPerPixel (277) - type: short (3) - value: 3\n",
      "tag: RowsPerStrip (278) - type: short (3) - value: 1\n",
      "tag: StripByteCounts (279) - type: long (4) Tag Location: 118 - Data Location: 212 - value: <table: 13840 bytes>\n",
      "tag: PlanarConfiguration (284) - type: short (3) - value: 1\n",
      "tag: ExtraSamples (338) - type: short (3) - value: (0, 0)\n",
      "tag: SampleFormat (339) - type: short (3) Tag Location: 154 - Data Location: 27892 - value: (2, 2, 2)\n",
      "tag: ModelPixelScaleTag (33550) - type: double (12) Tag Location: 166 - Data Location: 27898 - value: (5.0, 5.0, 0.0)\n",
      "tag: ModelTiepointTag (33922) - type: double (12) Tag Location: 178 - Data Location: 27922 - value: <table: 48 bytes>\n",
      "tag: GeoKeyDirectoryTag (34735) - type: short (3) Tag Location: 190 - Data Location: 27970 - value: <table: 64 bytes>\n",
      "tag: GeoAsciiParamsTag (34737) - type: string (2) Tag Location: 202 - Data Location: 28034 - value: WGS 84 / UTM zone 44N|WGS 84|\n",
      "*** Summary ***\n",
      "- compression: raw\n",
      "- photometric_interpretation: 1\n",
      "- planar_configuration: 1\n",
      "- fill_order: 1\n",
      "- YCbCr subsampling: None\n",
      "- size: (2820, 3460)\n",
      "format key: (b'II', 1, (2, 2, 2), 1, (16, 16, 16), (0, 0))\n",
      "- unsupported format\n"
     ]
    },
    {
     "ename": "SyntaxError",
     "evalue": "unknown pixel mode (<string>)",
     "output_type": "error",
     "traceback": [
      "Traceback \u001b[0;36m(most recent call last)\u001b[0m:\n",
      "  File \u001b[1;32m\"/home/thair/anaconda3/lib/python3.7/site-packages/IPython/core/interactiveshell.py\"\u001b[0m, line \u001b[1;32m3326\u001b[0m, in \u001b[1;35mrun_code\u001b[0m\n    exec(code_obj, self.user_global_ns, self.user_ns)\n",
      "  File \u001b[1;32m\"<ipython-input-11-be450729be66>\"\u001b[0m, line \u001b[1;32m4\u001b[0m, in \u001b[1;35m<module>\u001b[0m\n    TiffImagePlugin.TiffImageFile(f)\n",
      "  File \u001b[1;32m\"/home/thair/anaconda3/lib/python3.7/site-packages/PIL/ImageFile.py\"\u001b[0m, line \u001b[1;32m106\u001b[0m, in \u001b[1;35m__init__\u001b[0m\n    self._open()\n",
      "  File \u001b[1;32m\"/home/thair/anaconda3/lib/python3.7/site-packages/PIL/TiffImagePlugin.py\"\u001b[0m, line \u001b[1;32m1020\u001b[0m, in \u001b[1;35m_open\u001b[0m\n    self._seek(0)\n",
      "  File \u001b[1;32m\"/home/thair/anaconda3/lib/python3.7/site-packages/PIL/TiffImagePlugin.py\"\u001b[0m, line \u001b[1;32m1076\u001b[0m, in \u001b[1;35m_seek\u001b[0m\n    self._setup()\n",
      "\u001b[0;36m  File \u001b[0;32m\"/home/thair/anaconda3/lib/python3.7/site-packages/PIL/TiffImagePlugin.py\"\u001b[0;36m, line \u001b[0;32m1288\u001b[0;36m, in \u001b[0;35m_setup\u001b[0;36m\u001b[0m\n\u001b[0;31m    raise SyntaxError(\"unknown pixel mode\")\u001b[0m\n",
      "\u001b[0;36m  File \u001b[0;32m\"<string>\"\u001b[0;36m, line \u001b[0;32munknown\u001b[0m\n\u001b[0;31mSyntaxError\u001b[0m\u001b[0;31m:\u001b[0m unknown pixel mode\n"
     ]
    }
   ],
   "source": [
    "from PIL import TiffImagePlugin\n",
    "TiffImagePlugin.DEBUG = True\n",
    "with open(\"Bareilyoutput.tif\", 'rb') as f:\n",
    "    TiffImagePlugin.TiffImageFile(f)"
   ]
  },
  {
   "cell_type": "code",
   "execution_count": 17,
   "metadata": {},
   "outputs": [
    {
     "ename": "NameError",
     "evalue": "name 'imshow' is not defined",
     "output_type": "error",
     "traceback": [
      "\u001b[0;31m---------------------------------------------------------------------------\u001b[0m",
      "\u001b[0;31mNameError\u001b[0m                                 Traceback (most recent call last)",
      "\u001b[0;32m<ipython-input-17-416b05ad6cf2>\u001b[0m in \u001b[0;36m<module>\u001b[0;34m\u001b[0m\n\u001b[1;32m      5\u001b[0m \u001b[0mimage\u001b[0m \u001b[0;34m=\u001b[0m \u001b[0mtif\u001b[0m\u001b[0;34m.\u001b[0m\u001b[0mread_image\u001b[0m\u001b[0;34m(\u001b[0m\u001b[0;34m)\u001b[0m\u001b[0;34m\u001b[0m\u001b[0;34m\u001b[0m\u001b[0m\n\u001b[1;32m      6\u001b[0m \u001b[0;34m\u001b[0m\u001b[0m\n\u001b[0;32m----> 7\u001b[0;31m \u001b[0mimshow\u001b[0m\u001b[0;34m(\u001b[0m\u001b[0mimage\u001b[0m\u001b[0;34m)\u001b[0m\u001b[0;34m\u001b[0m\u001b[0;34m\u001b[0m\u001b[0m\n\u001b[0m",
      "\u001b[0;31mNameError\u001b[0m: name 'imshow' is not defined"
     ]
    }
   ],
   "source": [
    "from libtiff import TIFF\n",
    "\n",
    "tif = TIFF.open('Bareilyoutput.tif') # open tiff file in read mode\n",
    "# read an image in the currect TIFF directory as a numpy array\n",
    "image = tif.read_image()\n",
    "\n",
    "imshow(image)"
   ]
  },
  {
   "cell_type": "code",
   "execution_count": 19,
   "metadata": {},
   "outputs": [
    {
     "ename": "TypeError",
     "evalue": "__init__ expected at most 1 arguments, got 2",
     "output_type": "error",
     "traceback": [
      "\u001b[0;31m---------------------------------------------------------------------------\u001b[0m",
      "\u001b[0;31mTypeError\u001b[0m                                 Traceback (most recent call last)",
      "\u001b[0;32m<ipython-input-19-0fcec04a3182>\u001b[0m in \u001b[0;36m<module>\u001b[0;34m\u001b[0m\n\u001b[0;32m----> 1\u001b[0;31m \u001b[0mt\u001b[0m \u001b[0;34m=\u001b[0m \u001b[0mTIFF\u001b[0m\u001b[0;34m(\u001b[0m\u001b[0;34m'Bareilyoutput.tif'\u001b[0m\u001b[0;34m,\u001b[0m\u001b[0;34m'r'\u001b[0m\u001b[0;34m)\u001b[0m\u001b[0;34m\u001b[0m\u001b[0;34m\u001b[0m\u001b[0m\n\u001b[0m\u001b[1;32m      2\u001b[0m \u001b[0mimageData\u001b[0m \u001b[0;34m=\u001b[0m \u001b[0mread\u001b[0m\u001b[0;34m(\u001b[0m\u001b[0mt\u001b[0m\u001b[0;34m)\u001b[0m\u001b[0;34m\u001b[0m\u001b[0;34m\u001b[0m\u001b[0m\n\u001b[1;32m      3\u001b[0m \u001b[0mimshow\u001b[0m\u001b[0;34m(\u001b[0m\u001b[0mimageData\u001b[0m\u001b[0;34m)\u001b[0m\u001b[0;34m\u001b[0m\u001b[0;34m\u001b[0m\u001b[0m\n",
      "\u001b[0;31mTypeError\u001b[0m: __init__ expected at most 1 arguments, got 2"
     ]
    }
   ],
   "source": [
    "t = TIFF('Bareilyoutput.tif','r')\n",
    "imageData = read(t)\n",
    "imshow(imageData)"
   ]
  },
  {
   "cell_type": "code",
   "execution_count": 28,
   "metadata": {
    "collapsed": true
   },
   "outputs": [
    {
     "name": "stdout",
     "output_type": "stream",
     "text": [
      "/home/thair/Desktop/anaconda/.ipynb_checkpoints/Untitled-checkpoint.ipynb\n",
      "/home/thair/Desktop/anaconda/Untitled.ipynb\n",
      "/home/thair/Desktop/anaconda/Bareilyoutput.tif\n",
      "*** TiffImageFile._open ***\n",
      "- __first: 8\n",
      "- ifh:  b'II*\\x00\\x08\\x00\\x00\\x00'\n",
      "Seeking to frame 0, on frame -1, __next 8, location: 8\n",
      "Loading tags, location: 8\n",
      "tag: ImageWidth (256) - type: short (3) - value: 2820\n",
      "tag: ImageLength (257) - type: short (3) - value: 3460\n",
      "tag: BitsPerSample (258) - type: short (3) Tag Location: 46 - Data Location: 206 - value: (16, 16, 16)\n",
      "tag: Compression (259) - type: short (3) - value: 1\n",
      "tag: PhotometricInterpretation (262) - type: short (3) - value: 1\n",
      "tag: StripOffsets (273) - type: long (4) Tag Location: 82 - Data Location: 14052 - value: <table: 13840 bytes>\n",
      "tag: SamplesPerPixel (277) - type: short (3) - value: 3\n",
      "tag: RowsPerStrip (278) - type: short (3) - value: 1\n",
      "tag: StripByteCounts (279) - type: long (4) Tag Location: 118 - Data Location: 212 - value: <table: 13840 bytes>\n",
      "tag: PlanarConfiguration (284) - type: short (3) - value: 1\n",
      "tag: ExtraSamples (338) - type: short (3) - value: (0, 0)\n",
      "tag: SampleFormat (339) - type: short (3) Tag Location: 154 - Data Location: 27892 - value: (2, 2, 2)\n",
      "tag: ModelPixelScaleTag (33550) - type: double (12) Tag Location: 166 - Data Location: 27898 - value: (5.0, 5.0, 0.0)\n",
      "tag: ModelTiepointTag (33922) - type: double (12) Tag Location: 178 - Data Location: 27922 - value: <table: 48 bytes>\n",
      "tag: GeoKeyDirectoryTag (34735) - type: short (3) Tag Location: 190 - Data Location: 27970 - value: <table: 64 bytes>\n",
      "tag: GeoAsciiParamsTag (34737) - type: string (2) Tag Location: 202 - Data Location: 28034 - value: WGS 84 / UTM zone 44N|WGS 84|\n",
      "tag: ImageWidth (256) - type: short (3) - value: 2820\n",
      "tag: ImageLength (257) - type: short (3) - value: 3460\n",
      "tag: BitsPerSample (258) - type: short (3) Tag Location: 46 - Data Location: 206 - value: (16, 16, 16)\n",
      "tag: Compression (259) - type: short (3) - value: 1\n",
      "tag: PhotometricInterpretation (262) - type: short (3) - value: 1\n",
      "tag: StripOffsets (273) - type: long (4) Tag Location: 82 - Data Location: 14052 - value: <table: 13840 bytes>\n",
      "tag: SamplesPerPixel (277) - type: short (3) - value: 3\n",
      "tag: RowsPerStrip (278) - type: short (3) - value: 1\n",
      "tag: StripByteCounts (279) - type: long (4) Tag Location: 118 - Data Location: 212 - value: <table: 13840 bytes>\n",
      "tag: PlanarConfiguration (284) - type: short (3) - value: 1\n",
      "tag: ExtraSamples (338) - type: short (3) - value: (0, 0)\n",
      "tag: SampleFormat (339) - type: short (3) Tag Location: 154 - Data Location: 27892 - value: (2, 2, 2)\n",
      "tag: ModelPixelScaleTag (33550) - type: double (12) Tag Location: 166 - Data Location: 27898 - value: (5.0, 5.0, 0.0)\n",
      "tag: ModelTiepointTag (33922) - type: double (12) Tag Location: 178 - Data Location: 27922 - value: <table: 48 bytes>\n",
      "tag: GeoKeyDirectoryTag (34735) - type: short (3) Tag Location: 190 - Data Location: 27970 - value: <table: 64 bytes>\n",
      "tag: GeoAsciiParamsTag (34737) - type: string (2) Tag Location: 202 - Data Location: 28034 - value: WGS 84 / UTM zone 44N|WGS 84|\n",
      "*** Summary ***\n",
      "- compression: raw\n",
      "- photometric_interpretation: 1\n",
      "- planar_configuration: 1\n",
      "- fill_order: 1\n",
      "- YCbCr subsampling: None\n",
      "- size: (2820, 3460)\n",
      "format key: (b'II', 1, (2, 2, 2), 1, (16, 16, 16), (0, 0))\n",
      "- unsupported format\n",
      "not\n"
     ]
    }
   ],
   "source": [
    "import os\n",
    "from PIL import Image\n",
    "\n",
    "yourpath = os.getcwd()\n",
    "for root, dirs, files in os.walk(yourpath, topdown=False):\n",
    "    for name in files:\n",
    "        print(os.path.join(root, name))\n",
    "        if os.path.splitext(os.path.join(root, name))[1].lower() == \".tif\":\n",
    "            if os.path.isfile(os.path.splitext(os.path.join(root, name))[0] + \".jpg\"):\n",
    "                print(\"A jpeg file already exists for %s\" % name)\n",
    "            # If a jpeg is *NOT* present, create one from the tiff.\n",
    "            else:\n",
    "                outfile = os.path.splitext(os.path.join(root, name))[0] + \".jpg\"\n",
    "                try:\n",
    "                    im = Image.open(os.path.join(root, name))\n",
    "                    print(\"Generating jpeg for %s\" % name)\n",
    "                    im.thumbnail(im.size)\n",
    "                    im.save(outfile, \"JPEG\", quality=100)\n",
    "                except Exception:\n",
    "                    print(\"not\")\n"
   ]
  },
  {
   "cell_type": "code",
   "execution_count": 30,
   "metadata": {},
   "outputs": [
    {
     "ename": "SyntaxError",
     "evalue": "Missing parentheses in call to 'print'. Did you mean print(\"file : \" + infile)? (<ipython-input-30-098c3949e9ec>, line 2)",
     "output_type": "error",
     "traceback": [
      "\u001b[0;36m  File \u001b[0;32m\"<ipython-input-30-098c3949e9ec>\"\u001b[0;36m, line \u001b[0;32m2\u001b[0m\n\u001b[0;31m    print \"file : \" + infile\u001b[0m\n\u001b[0m                  ^\u001b[0m\n\u001b[0;31mSyntaxError\u001b[0m\u001b[0;31m:\u001b[0m Missing parentheses in call to 'print'. Did you mean print(\"file : \" + infile)?\n"
     ]
    }
   ],
   "source": [
    "for infile in os.listdir(\"./\"):\n",
    "    print (\"file : \" + infile)\n",
    "    if infile[-3:] == \"tif\" or infile[-3:] == \"bmp\" :\n",
    "       # print \"is tif or bmp\"\n",
    "       outfile = infile[:-3] + \"jpeg\"\n",
    "       im = Image.open(infile)\n",
    "       print(\"new filename : \" + outfile)\n",
    "       out = im.convert(\"RGB\")\n",
    "       out.save(outfile, \"JPEG\", quality=90)"
   ]
  },
  {
   "cell_type": "code",
   "execution_count": null,
   "metadata": {},
   "outputs": [],
   "source": []
  }
 ],
 "metadata": {
  "kernelspec": {
   "display_name": "Python 3",
   "language": "python",
   "name": "python3"
  },
  "language_info": {
   "codemirror_mode": {
    "name": "ipython",
    "version": 3
   },
   "file_extension": ".py",
   "mimetype": "text/x-python",
   "name": "python",
   "nbconvert_exporter": "python",
   "pygments_lexer": "ipython3",
   "version": "3.7.4"
  }
 },
 "nbformat": 4,
 "nbformat_minor": 2
}
