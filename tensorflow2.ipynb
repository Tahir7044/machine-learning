{
  "nbformat": 4,
  "nbformat_minor": 0,
  "metadata": {
    "colab": {
      "name": "tensorflow2.ipynb",
      "provenance": [],
      "authorship_tag": "ABX9TyP906Ci3A7YSt3etCreFEbk",
      "include_colab_link": true
    },
    "kernelspec": {
      "name": "python3",
      "display_name": "Python 3"
    },
    "accelerator": "GPU"
  },
  "cells": [
    {
      "cell_type": "markdown",
      "metadata": {
        "id": "view-in-github",
        "colab_type": "text"
      },
      "source": [
        "<a href=\"https://colab.research.google.com/github/Tahir7044/machine-learning/blob/master/tensorflow2.ipynb\" target=\"_parent\"><img src=\"https://colab.research.google.com/assets/colab-badge.svg\" alt=\"Open In Colab\"/></a>"
      ]
    },
    {
      "cell_type": "code",
      "metadata": {
        "id": "RwRZ9QgoDhjI",
        "colab_type": "code",
        "colab": {}
      },
      "source": [
        "pip install tensorflow-probability==0.7.0"
      ],
      "execution_count": 0,
      "outputs": []
    },
    {
      "cell_type": "code",
      "metadata": {
        "id": "dcu03CmPDnWa",
        "colab_type": "code",
        "colab": {}
      },
      "source": [
        "pip install google-auth~=1.7.2"
      ],
      "execution_count": 0,
      "outputs": []
    },
    {
      "cell_type": "code",
      "metadata": {
        "id": "7aYTyk0fD8T3",
        "colab_type": "code",
        "colab": {}
      },
      "source": [
        "pip install requests~=2.21.0"
      ],
      "execution_count": 0,
      "outputs": []
    },
    {
      "cell_type": "code",
      "metadata": {
        "id": "3WQIyxzCECIH",
        "colab_type": "code",
        "colab": {}
      },
      "source": [
        "pip install six~=1.12.0"
      ],
      "execution_count": 0,
      "outputs": []
    },
    {
      "cell_type": "code",
      "metadata": {
        "id": "Ua9eGLjyEF1w",
        "colab_type": "code",
        "colab": {}
      },
      "source": [
        "pip install folium==0.2.1"
      ],
      "execution_count": 0,
      "outputs": []
    },
    {
      "cell_type": "code",
      "metadata": {
        "id": "xKDf9C5ryiBG",
        "colab_type": "code",
        "colab": {}
      },
      "source": [
        "pip install tensorflow"
      ],
      "execution_count": 0,
      "outputs": []
    },
    {
      "cell_type": "code",
      "metadata": {
        "id": "rp82l3S6y39I",
        "colab_type": "code",
        "outputId": "75a76432-471e-44c3-e207-5206275b8192",
        "colab": {
          "base_uri": "https://localhost:8080/",
          "height": 34
        }
      },
      "source": [
        "%tensorflow_version 2.x"
      ],
      "execution_count": 0,
      "outputs": [
        {
          "output_type": "stream",
          "text": [
            "TensorFlow 2.x selected.\n"
          ],
          "name": "stdout"
        }
      ]
    },
    {
      "cell_type": "code",
      "metadata": {
        "id": "kxelSZXSQfWi",
        "colab_type": "code",
        "outputId": "69b3924b-7afa-4c0d-e433-398e946ff6d0",
        "colab": {
          "base_uri": "https://localhost:8080/",
          "height": 54
        }
      },
      "source": [
        "import tensorflow as tf\n",
        "print(tf.version)"
      ],
      "execution_count": 0,
      "outputs": [
        {
          "output_type": "stream",
          "text": [
            "<module 'tensorflow_core._api.v2.version' from '/tensorflow-2.1.0/python3.6/tensorflow_core/_api/v2/version/__init__.py'>\n"
          ],
          "name": "stdout"
        }
      ]
    },
    {
      "cell_type": "code",
      "metadata": {
        "id": "gIFRtP7hzQI8",
        "colab_type": "code",
        "colab": {}
      },
      "source": [
        "st=tf.Variable(\"tahir\",tf.string)\n",
        "num=tf.Variable(123,tf.int16)\n",
        "fl=tf.Variable(123.15,tf.float16)"
      ],
      "execution_count": 0,
      "outputs": []
    },
    {
      "cell_type": "code",
      "metadata": {
        "id": "fOLUjsBD0vPI",
        "colab_type": "code",
        "outputId": "2e94852c-3a77-4020-8fe4-474416cd954a",
        "colab": {
          "base_uri": "https://localhost:8080/",
          "height": 34
        }
      },
      "source": [
        "print(tf.rank(st))"
      ],
      "execution_count": 0,
      "outputs": [
        {
          "output_type": "stream",
          "text": [
            "tf.Tensor(0, shape=(), dtype=int32)\n"
          ],
          "name": "stdout"
        }
      ]
    },
    {
      "cell_type": "code",
      "metadata": {
        "id": "rxDc61Kp1ICw",
        "colab_type": "code",
        "colab": {}
      },
      "source": [
        "rank1=tf.Variable([[12]],tf.int16)\n",
        "rank2=tf.Variable([[12,45,65,4],\n",
        "                   [1,2,4,7],\n",
        "                   [5,6,7,8]],tf.int16)\n",
        "print(tf.rank(rank1))\n",
        "print(tf.rank(rank2))\n",
        "print(rank1.shape)\n",
        "print(rank2.shape)"
      ],
      "execution_count": 0,
      "outputs": []
    },
    {
      "cell_type": "code",
      "metadata": {
        "id": "HWTBDZ_U32lK",
        "colab_type": "code",
        "colab": {}
      },
      "source": [
        "tensor=tf.ones([2,2,3],dtype='int16')\n",
        "tensor"
      ],
      "execution_count": 0,
      "outputs": []
    },
    {
      "cell_type": "code",
      "metadata": {
        "id": "03LAmiJ44hCg",
        "colab_type": "code",
        "colab": {}
      },
      "source": [
        "tensor1=tf.reshape(tensor,[3,2,2])\n",
        "tensor2=tf.reshape(tensor,[4,-1])\n",
        "tensor3=tf.reshape(tensor,[2,3,-1])\n",
        "print(tensor1)\n",
        "print(tensor2)\n",
        "print(tensor3)"
      ],
      "execution_count": 0,
      "outputs": []
    },
    {
      "cell_type": "markdown",
      "metadata": {
        "id": "uQc_o_rA79XI",
        "colab_type": "text"
      },
      "source": [
        "path setting and dataset downloading\n",
        "\n"
      ]
    },
    {
      "cell_type": "code",
      "metadata": {
        "id": "hkmJ9DCh8Ilg",
        "colab_type": "code",
        "colab": {}
      },
      "source": [
        "pip install -q sklearn"
      ],
      "execution_count": 0,
      "outputs": []
    },
    {
      "cell_type": "code",
      "metadata": {
        "id": "E5NjEbQo-5lK",
        "colab_type": "code",
        "colab": {}
      },
      "source": [
        "from __future__ import absolute_import,division,print_function,unicode_literals\n",
        "import numpy as np\n",
        "import pandas as pd\n",
        "import seaborn as sns\n",
        "import matplotlib.pyplot as plt\n",
        "from IPython.display import clear_output\n",
        "from six.moves import urllib\n",
        "import tensorflow.compat.v2.feature_column as fc"
      ],
      "execution_count": 0,
      "outputs": []
    },
    {
      "cell_type": "code",
      "metadata": {
        "id": "_AW6gkmaGPXi",
        "colab_type": "code",
        "outputId": "f8aed398-8d15-4c49-c5ef-4066619dd58a",
        "colab": {
          "base_uri": "https://localhost:8080/",
          "height": 34
        }
      },
      "source": [
        "!mkdir .kaggle"
      ],
      "execution_count": 0,
      "outputs": [
        {
          "output_type": "stream",
          "text": [
            "mkdir: cannot create directory ‘.kaggle’: File exists\n"
          ],
          "name": "stdout"
        }
      ]
    },
    {
      "cell_type": "code",
      "metadata": {
        "id": "4YdrNRMmHgug",
        "colab_type": "code",
        "colab": {}
      },
      "source": [
        "!cp /content/.kaggle/kaggle.json ~/.kaggle/kaggle.json"
      ],
      "execution_count": 0,
      "outputs": []
    },
    {
      "cell_type": "code",
      "metadata": {
        "id": "N_XC7YsWH2JT",
        "colab_type": "code",
        "outputId": "5f0e0f62-eaa2-41cb-e547-510f90d85292",
        "colab": {
          "base_uri": "https://localhost:8080/",
          "height": 34
        }
      },
      "source": [
        "!kaggle config set -n path -v{/content}"
      ],
      "execution_count": 0,
      "outputs": [
        {
          "output_type": "stream",
          "text": [
            "- path is now set to: {/content}\n"
          ],
          "name": "stdout"
        }
      ]
    },
    {
      "cell_type": "code",
      "metadata": {
        "id": "LeDbb46z_3Nv",
        "colab_type": "code",
        "colab": {}
      },
      "source": [
        "!kaggle competitions download -c titanic -p /content"
      ],
      "execution_count": 0,
      "outputs": []
    },
    {
      "cell_type": "code",
      "metadata": {
        "id": "8SL1VJ69H_ym",
        "colab_type": "code",
        "colab": {}
      },
      "source": [
        ""
      ],
      "execution_count": 0,
      "outputs": []
    },
    {
      "cell_type": "markdown",
      "metadata": {
        "id": "jOzFZw7rIhQq",
        "colab_type": "text"
      },
      "source": [
        "**algorithm**\n",
        "*   linear regression"
      ]
    },
    {
      "cell_type": "code",
      "metadata": {
        "id": "cIrJvyNaIjPF",
        "colab_type": "code",
        "colab": {}
      },
      "source": [
        "data_set=pd.read_csv(\"titanic_train.csv\")"
      ],
      "execution_count": 0,
      "outputs": []
    },
    {
      "cell_type": "code",
      "metadata": {
        "id": "xNddcPbXJx1Q",
        "colab_type": "code",
        "outputId": "69efe26f-228f-4cc6-b0e8-4ee77010d46e",
        "colab": {
          "base_uri": "https://localhost:8080/",
          "height": 34
        }
      },
      "source": [
        "data_set.shape"
      ],
      "execution_count": 0,
      "outputs": [
        {
          "output_type": "execute_result",
          "data": {
            "text/plain": [
              "(891, 12)"
            ]
          },
          "metadata": {
            "tags": []
          },
          "execution_count": 33
        }
      ]
    },
    {
      "cell_type": "code",
      "metadata": {
        "id": "qSJgwME8KUMi",
        "colab_type": "code",
        "outputId": "e318a270-f02d-46ee-dcbe-c8bc394f5b80",
        "colab": {
          "base_uri": "https://localhost:8080/",
          "height": 68
        }
      },
      "source": [
        "col=data_set.columns\n",
        "print(col)"
      ],
      "execution_count": 0,
      "outputs": [
        {
          "output_type": "stream",
          "text": [
            "Index(['PassengerId', 'Pclass', 'Name', 'Sex', 'Age', 'SibSp', 'Parch',\n",
            "       'Ticket', 'Fare', 'Cabin', 'Embarked'],\n",
            "      dtype='object')\n"
          ],
          "name": "stdout"
        }
      ]
    },
    {
      "cell_type": "code",
      "metadata": {
        "id": "5LGXsE65Jf-I",
        "colab_type": "code",
        "colab": {}
      },
      "source": [
        "data_test=pd.read_csv(\"titanic_test.csv\")\n",
        "train_y=data_set.pop('Survived')"
      ],
      "execution_count": 0,
      "outputs": []
    },
    {
      "cell_type": "code",
      "metadata": {
        "id": "2QrbcxBPKrGN",
        "colab_type": "code",
        "outputId": "3575eef7-62d3-432c-a19d-fe33cd6cc733",
        "colab": {
          "base_uri": "https://localhost:8080/",
          "height": 34
        }
      },
      "source": [
        "train_y.shape"
      ],
      "execution_count": 0,
      "outputs": [
        {
          "output_type": "execute_result",
          "data": {
            "text/plain": [
              "(891,)"
            ]
          },
          "metadata": {
            "tags": []
          },
          "execution_count": 51
        }
      ]
    },
    {
      "cell_type": "code",
      "metadata": {
        "id": "5J2oOhLSJAMv",
        "colab_type": "code",
        "colab": {}
      },
      "source": [
        "data_set['Cabin'].value_counts()"
      ],
      "execution_count": 0,
      "outputs": []
    },
    {
      "cell_type": "code",
      "metadata": {
        "id": "h-32uMfpN4Eq",
        "colab_type": "code",
        "colab": {}
      },
      "source": [
        "plt.hist(x='Pclass',bins=5,data=data_set);\n",
        "plt.show()"
      ],
      "execution_count": 0,
      "outputs": []
    },
    {
      "cell_type": "code",
      "metadata": {
        "id": "rV5mJlspPWbg",
        "colab_type": "code",
        "colab": {}
      },
      "source": [
        "catagorical_col=['SibSp','Pclass','Sex', 'Parch','Cabin','Embarked']\n",
        "numerical_col=['Age','Fare']"
      ],
      "execution_count": 0,
      "outputs": []
    },
    {
      "cell_type": "code",
      "metadata": {
        "id": "jX98JJhm_zzC",
        "colab_type": "code",
        "colab": {}
      },
      "source": [
        "feature_col=[]\n",
        "for ft_name in catagorical_col:\n",
        "  uniq_data=data_set[ft_name].unique()\n",
        "  feature_col.append(tf.feature_column.categorical_column_with_vocabulary_list(ft_name,uniq_data))\n",
        "for ft_name in numerical_col:\n",
        "  feature_col.append(tf.feature_column.numeric_column(ft_name,dtype=tf.float32))"
      ],
      "execution_count": 0,
      "outputs": []
    },
    {
      "cell_type": "code",
      "metadata": {
        "id": "0W8u-eY1BXod",
        "colab_type": "code",
        "outputId": "8f12018a-7e84-48ff-e82e-43da32287868",
        "colab": {
          "base_uri": "https://localhost:8080/",
          "height": 34
        }
      },
      "source": [
        "print(data_set['Embarked'].unique())"
      ],
      "execution_count": 0,
      "outputs": [
        {
          "output_type": "stream",
          "text": [
            "['S' 'C' 'Q' nan]\n"
          ],
          "name": "stdout"
        }
      ]
    },
    {
      "cell_type": "code",
      "metadata": {
        "id": "_7jShb0qDDCs",
        "colab_type": "code",
        "colab": {}
      },
      "source": [
        "print(tf.feature_column.categorical_column_with_vocabulary_list('tahir',['yes','no']))\n",
        "print(tf.feature_column.numeric_column('algo',dtype=tf.float32))"
      ],
      "execution_count": 0,
      "outputs": []
    },
    {
      "cell_type": "code",
      "metadata": {
        "id": "bSBr3YxXEoUP",
        "colab_type": "code",
        "colab": {}
      },
      "source": [
        "from sklearn.model_selection import train_test_split\n",
        "X_train, X_test, y_train, y_test = train_test_split(data_set,train_y , test_size=0.25, random_state=42)"
      ],
      "execution_count": 0,
      "outputs": []
    },
    {
      "cell_type": "code",
      "metadata": {
        "id": "AbmntMTqFDHQ",
        "colab_type": "code",
        "outputId": "080c748c-b651-469f-a726-a9e98c7d6756",
        "colab": {
          "base_uri": "https://localhost:8080/",
          "height": 51
        }
      },
      "source": [
        "print(X_train.shape,y_train.shape)\n",
        "print(X_test.shape,y_test.shape)"
      ],
      "execution_count": 0,
      "outputs": [
        {
          "output_type": "stream",
          "text": [
            "(668, 11) (668,)\n",
            "(223, 11) (223,)\n"
          ],
          "name": "stdout"
        }
      ]
    },
    {
      "cell_type": "code",
      "metadata": {
        "id": "yhWdMSPOKnGI",
        "colab_type": "code",
        "colab": {}
      },
      "source": [
        "X_train.isna().sum()"
      ],
      "execution_count": 0,
      "outputs": []
    },
    {
      "cell_type": "code",
      "metadata": {
        "id": "df7F_RJnLycx",
        "colab_type": "code",
        "outputId": "b9dee197-d8de-44f9-9aed-5ce4e825a710",
        "colab": {
          "base_uri": "https://localhost:8080/",
          "height": 139
        }
      },
      "source": [
        "X_train['Age']=X_train['Age'].interpolate(method ='linear', limit_direction ='forward') \n"
      ],
      "execution_count": 0,
      "outputs": [
        {
          "output_type": "stream",
          "text": [
            "/usr/local/lib/python3.6/dist-packages/ipykernel_launcher.py:1: SettingWithCopyWarning: \n",
            "A value is trying to be set on a copy of a slice from a DataFrame.\n",
            "Try using .loc[row_indexer,col_indexer] = value instead\n",
            "\n",
            "See the caveats in the documentation: http://pandas.pydata.org/pandas-docs/stable/user_guide/indexing.html#returning-a-view-versus-a-copy\n",
            "  \"\"\"Entry point for launching an IPython kernel.\n"
          ],
          "name": "stderr"
        }
      ]
    },
    {
      "cell_type": "code",
      "metadata": {
        "id": "X6n3YOvMHEdF",
        "colab_type": "code",
        "colab": {}
      },
      "source": [
        "def make_input_fun(data_df,label_df,n_epoc=10,shuffle=True,batch_size=32):\n",
        "  def input_function():\n",
        "    ds=tf.data.Dataset.from_tensor_slices((dict(data_df),label_df))\n",
        "    if shuffle:\n",
        "      ds=ds.shuffle(1000)\n",
        "    ds=ds.batch(batch_size).repeat(n_epoc)\n",
        "    return ds\n",
        "  return input_function\n",
        "train_data=make_input_fun(X_train,y_train)\n",
        "test_data=make_input_fun(X_test,y_test,n_epoc=1,shuffle=False)"
      ],
      "execution_count": 0,
      "outputs": []
    },
    {
      "cell_type": "code",
      "metadata": {
        "id": "IYYUpr2IHPHq",
        "colab_type": "code",
        "colab": {}
      },
      "source": [
        "linear_est=tf.estimator.LinearClassifier(feature_columns=feature_col)\n",
        "linear_est.train(train_data)\n",
        "result=linear_est.evaluate(test_data)\n",
        "clear_output()\n",
        "print(result['accuracy'])"
      ],
      "execution_count": 0,
      "outputs": []
    }
  ]
}